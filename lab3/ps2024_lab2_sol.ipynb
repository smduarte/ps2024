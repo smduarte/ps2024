{
  "cells": [
    {
      "cell_type": "markdown",
      "metadata": {
        "id": "view-in-github",
        "colab_type": "text"
      },
      "source": [
        "<a href=\"https://colab.research.google.com/github/smduarte/ps2024/blob/main/lab3/ps2024_lab2_sol.ipynb\" target=\"_parent\"><img src=\"https://colab.research.google.com/assets/colab-badge.svg\" alt=\"Open In Colab\"/></a>"
      ]
    },
    {
      "cell_type": "markdown",
      "metadata": {
        "id": "KgFZlT_g8O1Y"
      },
      "source": [
        "# Processamento de Streams 2024\n",
        "## Lab 2 - (Unstructured) Spark Streaming - Solution\n",
        "---\n",
        "### Colab Setup\n",
        "\n"
      ]
    },
    {
      "cell_type": "code",
      "execution_count": null,
      "metadata": {
        "cellView": "form",
        "id": "1eIWfDqQ3Cqi"
      },
      "outputs": [],
      "source": [
        "#@title Mount Google Drive\n",
        "from google.colab import drive\n",
        "drive.mount('/content/drive')"
      ]
    },
    {
      "cell_type": "code",
      "execution_count": null,
      "metadata": {
        "id": "L2O_3I3x1dbx"
      },
      "outputs": [],
      "source": [
        "#@title Install PySpark\n",
        "!pip install pyspark findspark --quiet\n",
        "import findspark\n",
        "findspark.init()\n",
        "findspark.find()"
      ]
    },
    {
      "cell_type": "markdown",
      "metadata": {
        "id": "51ECJ--i0D2G"
      },
      "source": [
        "---\n",
        "### Weblog Sender\n",
        "The stream server is a small python TCP server, listening\n",
        "on port 7777 (localhost).\n",
        "\n",
        "The stream will consist of a set of text lines, obtained from the output log of a webserver.\n",
        "\n"
      ]
    },
    {
      "cell_type": "code",
      "execution_count": null,
      "metadata": {
        "id": "GElosFxt-D4j"
      },
      "outputs": [],
      "source": [
        "!wget -q -O - https://github.com/smduarte/ps2024/raw/main/colab/logsender.tgz | tar xfz - 2> /dev/null\n",
        "\n",
        "!nohup python logsender/server.py logsender/web.log 7777 > /dev/null 2> /dev/null &\n",
        "!nohup python logsender/server.py logsender/webipv4.log 7778 > /dev/null 2> /dev/null &\n",
        "!nohup python logsender/server.py logsender/webipv6.log 7779 > /dev/null 2> /dev/null &"
      ]
    },
    {
      "cell_type": "code",
      "execution_count": null,
      "metadata": {
        "id": "VTkfdezK7hgr"
      },
      "outputs": [],
      "source": [
        "%%bash\n",
        "apt-get -qq install -y net-tools\n",
        "netstat -a | grep tcp | grep 777"
      ]
    },
    {
      "cell_type": "markdown",
      "metadata": {
        "id": "1wihC26vaiT1"
      },
      "source": [
        "The python code below shows the basics needed to process data from socket source using PySpark.\n",
        "\n",
        "Spark Streaming python documentation is found [here](https://spark.apache.org/docs/latest/api/python/reference/pyspark.streaming.html)"
      ]
    },
    {
      "cell_type": "code",
      "execution_count": null,
      "metadata": {
        "id": "QpO0aX2PPWd1"
      },
      "outputs": [],
      "source": [
        "import warnings\n",
        "warnings.simplefilter(action='ignore', category=FutureWarning)\n",
        "\n",
        "\n",
        "from pyspark.sql import *\n",
        "from pyspark import SparkContext\n",
        "from pyspark.streaming import StreamingContext\n",
        "import tempfile\n",
        "\n",
        "spark = SparkSession.builder.master('local[*]').appName('WebLogExample').getOrCreate()\n",
        "sc = spark.sparkContext\n",
        "\n",
        "try :\n",
        "  ssc = StreamingContext.getActiveOrCreate(checkpointPath = tempfile.TemporaryDirectory().name, setupFunc = lambda : StreamingContext(sc, 1))\n",
        "  lines = ssc.socketTextStream(\"localhost\", 7777)\n",
        "\n",
        "  lines.pprint()\n",
        "\n",
        "  ssc.start()\n",
        "  ssc.awaitTermination(10)\n",
        "except Exception as err:\n",
        "  ssc.stop()"
      ]
    },
    {
      "cell_type": "markdown",
      "metadata": {
        "id": "THPCe5kkaEr-"
      },
      "source": [
        "---\n",
        "# Exercises\n",
        "\n",
        "## Exercise 1\n",
        "\n",
        "In a denial-of-service event it is important to identify the IP sources that might be attacking the system, by issuing a large number of requests.\n",
        "\n",
        "Write a program to find the IP sources that have done more than 50 requests in the last 10 seconds -- dump this information every 5 seconds.\n"
      ]
    },
    {
      "cell_type": "code",
      "source": [
        "import warnings\n",
        "warnings.simplefilter(action='ignore', category=FutureWarning)\n",
        "\n",
        "\n",
        "from pyspark.sql import *\n",
        "from pyspark import SparkContext\n",
        "from pyspark.streaming import StreamingContext\n",
        "import tempfile\n",
        "\n",
        "spark = SparkSession.builder.master('local[*]').appName('WebLogExample-Ex1').getOrCreate()\n",
        "sc = spark.sparkContext\n",
        "\n",
        "try :\n",
        "  ssc = StreamingContext.getActiveOrCreate(checkpointPath = tempfile.TemporaryDirectory().name,\n",
        "                                           setupFunc = lambda : StreamingContext(sc, 1))\n",
        "\n",
        "  lines = ssc.socketTextStream(\"localhost\", 7777)\n",
        "\n",
        "  results = lines.window(10, 5)\\\n",
        "            .filter( lambda line : len(line) > 0 ) \\\n",
        "            .map( lambda line: line.split(' ')) \\\n",
        "            .map( lambda values : (values[1], 1)) \\\n",
        "            .reduceByKey( lambda v1, v2: v1 + v2) \\\n",
        "            .filter( lambda kv : kv[1] > 50)\n",
        "\n",
        "  results.pprint()\n",
        "\n",
        "  ssc.start()\n",
        "  ssc.awaitTermination(120)\n",
        "except Exception as err:\n",
        "  ssc.stop()"
      ],
      "metadata": {
        "id": "akxPdI3ne5-T"
      },
      "execution_count": null,
      "outputs": []
    },
    {
      "cell_type": "markdown",
      "metadata": {
        "id": "ZmM2Ey9YQEQw"
      },
      "source": [
        "### Exercise 2\n",
        "\n",
        "#### a)\n",
        "Write a program to dump the number of requests, minimum processing time, maximum processing time for request in the last 10 seconds, **for all** source IPs that performed more than 100 requests -- dump this information every 5 second."
      ]
    },
    {
      "cell_type": "code",
      "source": [
        "import warnings\n",
        "warnings.simplefilter(action='ignore', category=FutureWarning)\n",
        "\n",
        "from pyspark.sql import *\n",
        "from pyspark import SparkContext\n",
        "from pyspark.streaming import StreamingContext\n",
        "import tempfile\n",
        "\n",
        "spark = SparkSession.builder.master('local[*]').appName('WebLogExample-Ex2a').getOrCreate()\n",
        "sc = spark.sparkContext\n",
        "\n",
        "try:\n",
        "  ssc = StreamingContext.getActiveOrCreate(checkpointPath = tempfile.TemporaryDirectory().name,\n",
        "                                           setupFunc = lambda : StreamingContext(sc, 1))\n",
        "  lines = ssc.socketTextStream(\"localhost\", 7777)\n",
        "\n",
        "  results = lines.window(10, 5)\\\n",
        "            .filter( lambda line : len(line) > 0 ) \\\n",
        "            .map( lambda line: line.split(' ')) \\\n",
        "            .map( lambda values : (values[1], (1, float(values[5]), float(values[5])))) \\\n",
        "            .reduceByKey( lambda a, b: (a[0] + b[0], min( a[1], b[1] ), max( a[2], b[2]))) \\\n",
        "            .filter( lambda kv : kv[1][0] > 100)\n",
        "\n",
        "\n",
        "  results.pprint()\n",
        "\n",
        "  ssc.start()\n",
        "  ssc.awaitTermination(120)\n",
        "\n",
        "except Exception as err:\n",
        "  ssc.stop()"
      ],
      "metadata": {
        "id": "D19j_iJugbiv"
      },
      "execution_count": null,
      "outputs": []
    },
    {
      "cell_type": "markdown",
      "metadata": {
        "id": "_sjFvACoCW61"
      },
      "source": [
        "#### b)\n",
        "\n",
        "Write a program to dump the number of requests, minimum processing time, maximum processing time for request in the last 10 seconds, **only if at least one** source IP has performed more than 100 requests -- dump this information every 5 second."
      ]
    },
    {
      "cell_type": "code",
      "source": [
        "#@title Using DStream.join()\n",
        "import warnings\n",
        "warnings.simplefilter(action='ignore', category=FutureWarning)\n",
        "\n",
        "from pyspark.sql import *\n",
        "from pyspark import SparkContext\n",
        "from pyspark.streaming import StreamingContext\n",
        "import tempfile\n",
        "\n",
        "spark = SparkSession.builder.master('local[*]').appName('WebLogExample-Ex2b').getOrCreate()\n",
        "sc = spark.sparkContext\n",
        "\n",
        "try :\n",
        "  ssc = StreamingContext.getActiveOrCreate(checkpointPath = tempfile.TemporaryDirectory().name,\n",
        "                                           setupFunc = lambda : StreamingContext(sc, 1))\n",
        "  lines = ssc.socketTextStream(\"localhost\", 7777)\n",
        "\n",
        "\n",
        "  results = lines.window(10, 5)\\\n",
        "            .filter( lambda line : len(line) > 0 ) \\\n",
        "            .map( lambda line: line.split(' ')) \\\n",
        "            .map( lambda values : (values[1], (1, float(values[5]), float(values[5])))) \\\n",
        "            .reduceByKey( lambda a, b: (a[0] + b[0], min( a[1], b[1] ), max( a[2], b[2])))\n",
        "\n",
        "  moreThan100 = results.filter( lambda t : t[1][0] > 100) \\\n",
        "                  .map( lambda t : (None, None)) \\\n",
        "                  .reduceByKey( lambda a, b : None)\n",
        "\n",
        "  results = results.map( lambda t : (None, t)) \\\n",
        "                  .join( moreThan100 ) \\\n",
        "                  .map( lambda t: t[1][0])\n",
        "\n",
        "  results.pprint()\n",
        "  ssc.start()\n",
        "  ssc.awaitTermination(120)\n",
        "except Exception as err:\n",
        "  ssc.stop()"
      ],
      "metadata": {
        "id": "MWDpfyuLf-0Y"
      },
      "execution_count": null,
      "outputs": []
    },
    {
      "cell_type": "code",
      "source": [
        "#@title Using DStream.glom()\n",
        "\n",
        "import warnings\n",
        "warnings.simplefilter(action='ignore', category=FutureWarning)\n",
        "\n",
        "from pyspark.sql import *\n",
        "from pyspark import SparkContext\n",
        "from pyspark.streaming import StreamingContext\n",
        "import tempfile\n",
        "\n",
        "spark = SparkSession.builder.master('local[*]').appName('WebLogExample-Ex2b').getOrCreate()\n",
        "sc = spark.sparkContext\n",
        "\n",
        "try :\n",
        "  ssc = StreamingContext.getActiveOrCreate(checkpointPath = tempfile.TemporaryDirectory().name,\n",
        "                                           setupFunc = lambda : StreamingContext(sc, 1))\n",
        "  lines = ssc.socketTextStream(\"localhost\", 7777)\n",
        "\n",
        "  results = lines.window(10, 5)\\\n",
        "            .filter( lambda line : len(line) > 0 ) \\\n",
        "            .map( lambda line: line.split(' ')) \\\n",
        "            .map( lambda values : (values[1], (1, float(values[5]), float(values[5])))) \\\n",
        "            .reduceByKey( lambda a, b: (a[0] + b[0], min( a[1], b[1] ), max( a[2], b[2]))) \\\n",
        "            .repartition(1) \\\n",
        "            .glom() \\\n",
        "            .map( lambda l : l if max(p[1][0] for p in l) > 100 else [] ) \\\n",
        "            .flatMap( lambda l : l)\n",
        "\n",
        "  results.pprint()\n",
        "\n",
        "  ssc.start()\n",
        "  ssc.awaitTermination(120)\n",
        "except Exception as err:\n",
        "  ssc.stop()"
      ],
      "metadata": {
        "id": "AChVXoh6l2It"
      },
      "execution_count": null,
      "outputs": []
    },
    {
      "cell_type": "markdown",
      "metadata": {
        "id": "5yy3_7xpQMew"
      },
      "source": [
        "## Exercise 3\n",
        "Write a program to dump the IP sources that deviate most from the average in terms of the number of requests made in the last 30 seconds - dump this information every 5 seconds."
      ]
    },
    {
      "cell_type": "code",
      "source": [
        "#@title Using DStream.join()\n",
        "import warnings\n",
        "warnings.simplefilter(action='ignore', category=FutureWarning)\n",
        "\n",
        "from pyspark.sql import *\n",
        "from pyspark import SparkContext\n",
        "from pyspark.streaming import StreamingContext\n",
        "import tempfile\n",
        "\n",
        "spark = SparkSession.builder.master('local[*]').appName('WebLogExample-Ex3').getOrCreate()\n",
        "sc = spark.sparkContext\n",
        "\n",
        "try :\n",
        "  ssc = StreamingContext.getActiveOrCreate(checkpointPath = tempfile.TemporaryDirectory().name,\n",
        "                                           setupFunc = lambda : StreamingContext(sc, 1))\n",
        "  lines = ssc.socketTextStream(\"localhost\", 7777)\n",
        "\n",
        "  counts = lines.window(30, 5)\\\n",
        "            .filter( lambda line : len(line) > 0 ) \\\n",
        "            .map( lambda line: line.split(' ')) \\\n",
        "            .map( lambda values : (values[1], 1)) \\\n",
        "            .reduceByKey( lambda a, b: a + b)\n",
        "\n",
        "  #counts.pprint()\n",
        "\n",
        "  average = counts.map( lambda t : (None, (t[1], 1))) \\\n",
        "            .reduceByKey( lambda a, b: (a[0] + b[0], a[1] + b[1])) \\\n",
        "            .map( lambda t : (None, t[1][0] / t[1][1]))\n",
        "\n",
        "  #average.map(lambda t : t[1]).pprint()\n",
        "\n",
        "  results = counts.map( lambda t : (None, t)) \\\n",
        "              .join( average) \\\n",
        "              .map( lambda t : (t[1][0][0], t[1][0][1], abs(t[1][0][1] - t[1][1]))) \\\n",
        "              .transform(lambda rdd:\n",
        "\t\t\t\t          rdd.sortBy(lambda x: x[2], ascending=False) \\\n",
        "\t\t\t\t\t           .zipWithIndex() \\\n",
        "\t\t\t\t\t           .filter( lambda v: v[1] < 5) \\\n",
        "\t\t\t\t\t           .map( lambda v: v[0]))\n",
        "  results.pprint()\n",
        "\n",
        "\n",
        "  ssc.start()\n",
        "  ssc.awaitTermination(300)\n",
        "except Exception as err:\n",
        "  ssc.stop()"
      ],
      "metadata": {
        "id": "fmjuCst3nacd"
      },
      "execution_count": null,
      "outputs": []
    },
    {
      "cell_type": "markdown",
      "metadata": {
        "id": "B3Wg5aecQSFM"
      },
      "source": [
        "## Exercise 4\n",
        "\n",
        "Run additional logsender servers for subsets of the logs (IPv4 and IPv6 logs), using the following commands.\n",
        "\n",
        "```\n",
        "!nohup python logsender/server.py logsender/webipv4.log 7778 > /dev/null 2> /dev/null &\n",
        "!nohup python logsender/server.py logsender/webipv6.log 7779 > /dev/null 2> /dev/null &\n",
        "```\n",
        "\n",
        "Write a program that combines the two streams, dumping the number of requests made in the last 15 seconds - dump this information every 5 seconds."
      ]
    },
    {
      "cell_type": "code",
      "source": [
        "import warnings\n",
        "warnings.simplefilter(action='ignore', category=FutureWarning)\n",
        "\n",
        "\n",
        "from pyspark.sql import *\n",
        "from pyspark import SparkContext\n",
        "from pyspark.streaming import StreamingContext\n",
        "import tempfile\n",
        "\n",
        "spark = SparkSession.builder.master('local[*]').appName('WebLogExample-Ex4').getOrCreate()\n",
        "sc = spark.sparkContext\n",
        "\n",
        "try :\n",
        "  ssc = StreamingContext.getActiveOrCreate(checkpointPath = tempfile.TemporaryDirectory().name, setupFunc = lambda : StreamingContext(sc, 1))\n",
        "\n",
        "  ipv4Sources = ssc.socketTextStream(\"localhost\", 7778)\n",
        "  ipv6Sources = ssc.socketTextStream(\"localhost\", 7779)\n",
        "\n",
        "  results = ipv6Sources.union(ipv4Sources) \\\n",
        "            .window(15, 5)\\\n",
        "            .filter( lambda line : len(line) > 0 ) \\\n",
        "            .map( lambda line: line.split(' ')) \\\n",
        "            .map( lambda values : (values[1], 1)) \\\n",
        "            .reduceByKey( lambda a, b: a + b)\n",
        "\n",
        "  results.pprint()\n",
        "\n",
        "  ssc.start()\n",
        "  ssc.awaitTermination(120)\n",
        "except Exception as err:\n",
        "  ssc.stop()"
      ],
      "metadata": {
        "id": "MhfwOnWGqTGl"
      },
      "execution_count": null,
      "outputs": []
    },
    {
      "cell_type": "markdown",
      "metadata": {
        "id": "ALselcFrRuYA"
      },
      "source": [
        "## Exercise 5\n",
        "\n",
        "Write a program that combines the two streams from the previous exercise and dumps the proportion of IPv4 vs IPv6 requests in the last 20 seconds - dump this information every 5 seconds.\n"
      ]
    },
    {
      "cell_type": "code",
      "source": [
        "import warnings\n",
        "warnings.simplefilter(action='ignore', category=FutureWarning)\n",
        "\n",
        "from pyspark.sql import *\n",
        "from pyspark import SparkContext\n",
        "from pyspark.streaming import StreamingContext\n",
        "import tempfile\n",
        "\n",
        "spark = SparkSession.builder.master('local[*]').appName('WebLogExample-Ex5').getOrCreate()\n",
        "sc = spark.sparkContext\n",
        "\n",
        "try :\n",
        "  ssc = StreamingContext.getActiveOrCreate(checkpointPath = tempfile.TemporaryDirectory().name,\n",
        "                                           setupFunc = lambda : StreamingContext(sc, 1))\n",
        "\n",
        "  ipv4Sources = ssc.socketTextStream(\"localhost\", 7778) \\\n",
        "            .map( lambda line : ('ipv4', 1 if len(line) > 0 else 0))\n",
        "\n",
        "  ipv6Sources = ssc.socketTextStream(\"localhost\", 7779) \\\n",
        "            .map( lambda line : ('ipv6', 1 if len(line) > 0 else 0))\n",
        "\n",
        "  counts = ipv4Sources.union( ipv6Sources) \\\n",
        "            .window(20, 5) \\\n",
        "            .reduceByKey( lambda a, b: a + b) \\\n",
        "            .map( lambda t : (None, t))\n",
        "\n",
        "  counts.pprint()\n",
        "\n",
        "  total = counts.reduceByKey( lambda a, b: a[1] + b[1])\n",
        "\n",
        "  results = counts.join( total ) \\\n",
        "        .map( lambda t : t[1]) \\\n",
        "        .map( lambda t : (t[0][0], round(t[0][1] / t[1], 3)))\n",
        "\n",
        "  results.pprint()\n",
        "\n",
        "  ssc.start()\n",
        "  ssc.awaitTermination(60)\n",
        "except Exception as err:\n",
        "  ssc.stop()"
      ],
      "metadata": {
        "id": "m143PUBmq5XT"
      },
      "execution_count": null,
      "outputs": []
    },
    {
      "cell_type": "code",
      "source": [
        "from pyspark import SparkContext\n",
        "import socket\n",
        "from pyspark.streaming import StreamingContext\n",
        "\n",
        "sc = SparkContext(\"local[4]\", \"WebLogExample-ex5\")\n",
        "\n",
        "try:\n",
        "  ssc = ssc = StreamingContext(sc, 5)\n",
        "\n",
        "  ipv4Sources = ssc.socketTextStream(\"localhost\", 7778) \\\n",
        "            .map( lambda line : ('ipv4', 1 if len(line)>0 else 0))\n",
        "\n",
        "  ipv6Sources = ssc.socketTextStream(\"localhost\", 7779) \\\n",
        "            .map( lambda line : ('ipv6', 1 if len(line)>0 else 0))\n",
        "\n",
        "\n",
        "  results = ipv4Sources.union( ipv6Sources) \\\n",
        "            .window(20, 5) \\\n",
        "            .reduceByKey( lambda a, b: a+b) \\\n",
        "            .map( lambda t : (None, t))\n",
        "\n",
        "  total = results.reduceByKey( lambda a, b: a[1] + b[1])\n",
        "\n",
        "  results = results.join( total ) \\\n",
        "        .map( lambda t : t[1]) \\\n",
        "        .map( lambda t : (t[0][0], round(t[0][1] / t[1], 3)))\n",
        "\n",
        "  results.pprint()\n",
        "\n",
        "  ssc.start()\n",
        "  ssc.awaitTermination(120)\n",
        "except Exception as err:\n",
        "  print(err)\n",
        "  ssc.stop()"
      ],
      "metadata": {
        "id": "hBNyvy0p4uTj"
      },
      "execution_count": null,
      "outputs": []
    }
  ],
  "metadata": {
    "colab": {
      "provenance": [],
      "include_colab_link": true
    },
    "kernelspec": {
      "display_name": "Python 3 (ipykernel)",
      "language": "python",
      "name": "python3"
    },
    "language_info": {
      "codemirror_mode": {
        "name": "ipython",
        "version": 3
      },
      "file_extension": ".py",
      "mimetype": "text/x-python",
      "name": "python",
      "nbconvert_exporter": "python",
      "pygments_lexer": "ipython3",
      "version": "3.9.16"
    }
  },
  "nbformat": 4,
  "nbformat_minor": 0
}