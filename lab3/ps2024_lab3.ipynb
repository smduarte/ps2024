{
  "nbformat": 4,
  "nbformat_minor": 0,
  "metadata": {
    "colab": {
      "provenance": [],
      "include_colab_link": true
    },
    "kernelspec": {
      "name": "python3",
      "display_name": "Python 3"
    },
    "language_info": {
      "name": "python"
    }
  },
  "cells": [
    {
      "cell_type": "markdown",
      "metadata": {
        "id": "view-in-github",
        "colab_type": "text"
      },
      "source": [
        "<a href=\"https://colab.research.google.com/github/smduarte/ps2024/blob/main/lab3/ps2024_lab3.ipynb\" target=\"_parent\"><img src=\"https://colab.research.google.com/assets/colab-badge.svg\" alt=\"Open In Colab\"/></a>"
      ]
    },
    {
      "cell_type": "markdown",
      "metadata": {
        "id": "KgFZlT_g8O1Y"
      },
      "source": [
        "# Processamento de Streams 2024\n",
        "## Lab 3 - Structured Spark Streaming \n",
        "---\n",
        "### Colab Setup\n",
        "\n"
      ]
    },
    {
      "cell_type": "code",
      "metadata": {
        "id": "1eIWfDqQ3Cqi",
        "cellView": "form"
      },
      "source": [
        "#@title Mount Google Drive\n",
        "from google.colab import drive\n",
        "drive.mount('/content/drive')"
      ],
      "execution_count": null,
      "outputs": []
    },
    {
      "cell_type": "code",
      "source": [
        "#@title Install PySpark\n",
        "!pip install pyspark findspark --quiet\n",
        "import findspark\n",
        "findspark.init()\n",
        "findspark.find()"
      ],
      "metadata": {
        "cellView": "form",
        "id": "L2O_3I3x1dbx",
        "outputId": "c9444278-893b-4f64-9a38-d86b453511ca",
        "colab": {
          "base_uri": "https://localhost:8080/",
          "height": 107
        }
      },
      "execution_count": 1,
      "outputs": [
        {
          "output_type": "stream",
          "name": "stdout",
          "text": [
            "\u001b[2K     \u001b[90m━━━━━━━━━━━━━━━━━━━━━━━━━━━━━━━━━━━━━━━\u001b[0m \u001b[32m281.4/281.4 MB\u001b[0m \u001b[31m3.8 MB/s\u001b[0m eta \u001b[36m0:00:00\u001b[0m\n",
            "\u001b[?25h  Preparing metadata (setup.py) ... \u001b[?25l\u001b[?25hdone\n",
            "\u001b[2K     \u001b[90m━━━━━━━━━━━━━━━━━━━━━━━━━━━━━━━━━━━━━━━\u001b[0m \u001b[32m199.7/199.7 KB\u001b[0m \u001b[31m8.0 MB/s\u001b[0m eta \u001b[36m0:00:00\u001b[0m\n",
            "\u001b[?25h  Building wheel for pyspark (setup.py) ... \u001b[?25l\u001b[?25hdone\n"
          ]
        },
        {
          "output_type": "execute_result",
          "data": {
            "text/plain": [
              "'/usr/local/lib/python3.9/dist-packages/pyspark'"
            ],
            "application/vnd.google.colaboratory.intrinsic+json": {
              "type": "string"
            }
          },
          "metadata": {},
          "execution_count": 1
        }
      ]
    },
    {
      "cell_type": "markdown",
      "source": [
        "---\n",
        "### Weblog Sender\n",
        "The stream server is a small python TCP server, listening\n",
        "on port 7777 (localhost). \n",
        "\n",
        "The stream will consist of a set of text lines, obtained from the output log of a webserver.\n",
        "\n"
      ],
      "metadata": {
        "id": "51ECJ--i0D2G"
      }
    },
    {
      "cell_type": "code",
      "source": [
        "!wget -q -O - https://github.com/smduarte/ps2024/raw/main/colab/logsender.tgz | tar xfz - 2> /dev/null\n",
        "\n",
        "!nohup python logsender/server.py logsender/web.log 7777 > /dev/null 2> /dev/null &"
      ],
      "metadata": {
        "id": "GElosFxt-D4j"
      },
      "execution_count": 2,
      "outputs": []
    },
    {
      "cell_type": "markdown",
      "source": [
        "The python code below shows the basics needed to process data from socket source using PySpark.\n",
        "\n",
        "Spark Streaming python documentation is found [here](https://spark.apache.org/docs/latest/api/python/reference/pyspark.streaming.html)"
      ],
      "metadata": {
        "id": "1wihC26vaiT1"
      }
    },
    {
      "cell_type": "code",
      "metadata": {
        "id": "QpO0aX2PPWd1"
      },
      "source": [
        "from pyspark.sql import SparkSession\n",
        "from pyspark.sql.functions import explode, split, count\n",
        "\n",
        "spark = SparkSession \\\n",
        "    .builder \\\n",
        "    .appName(\"StructuredWebLogExample\") \\\n",
        "    .getOrCreate()\n",
        "\n",
        "# Create DataFrame representing the stream of input\n",
        "# lines from connection to logsender 7777\n",
        "\n",
        "lines = spark.readStream.format(\"socket\") \\\n",
        "    .option(\"host\", \"localhost\") \\\n",
        "    .option(\"port\", 7777) \\\n",
        "    .load()\n",
        "\n",
        "query = lines \\\n",
        "    .writeStream \\\n",
        "    .outputMode(\"append\") \\\n",
        "    .trigger(processingTime='1 seconds') \\\n",
        "    .foreachBatch(lambda df, epoch: df.show(10, False)) \\\n",
        "    .start()\n",
        "\n",
        "query.awaitTermination(60)\n",
        "query.stop()\n"
      ],
      "execution_count": null,
      "outputs": []
    },
    {
      "cell_type": "markdown",
      "source": [
        "---\n",
        "# Exercises\n",
        "\n",
        "## Exercise 1\n",
        "\n",
        "In a denial-of-service event it is important to identify the IP sources that might be attacking the system, by issuing a large number of requests.\n",
        "\n",
        "Write a program to find the IP sources that have done more than 50 requests in the last 10 seconds -- dump this information every 5 seconds. \n"
      ],
      "metadata": {
        "id": "THPCe5kkaEr-"
      }
    },
    {
      "cell_type": "code",
      "source": [],
      "metadata": {
        "id": "Dtav45IoQDzy"
      },
      "execution_count": null,
      "outputs": []
    },
    {
      "cell_type": "markdown",
      "source": [
        "## Exercise 2\n",
        "\n",
        "#### a)\n",
        "Write a program to dump the number of requests, minimum processing time, maximum processing time for request in the last 10 seconds, **for all** source IPs that performed more than 100 requests -- dump this information every 5 second.  "
      ],
      "metadata": {
        "id": "ZmM2Ey9YQEQw"
      }
    },
    {
      "cell_type": "code",
      "source": [],
      "metadata": {
        "id": "4003eAI6QL86"
      },
      "execution_count": null,
      "outputs": []
    },
    {
      "cell_type": "markdown",
      "source": [
        "#### b)\n",
        "\n",
        "Write a program to dump the number of requests, minimum processing time, maximum processing time for request in the last 10 seconds, **only if at least one** source IP has performed more than 100 requests -- dump this information every 5 second."
      ],
      "metadata": {
        "id": "prmPPodzDwL6"
      }
    },
    {
      "cell_type": "code",
      "source": [],
      "metadata": {
        "id": "NLXgZnC_DwoP"
      },
      "execution_count": null,
      "outputs": []
    },
    {
      "cell_type": "markdown",
      "source": [
        "## Exercise 3\n",
        "Write a program to dump the IP sources that deviate most from the average in terms of the number of requests made in the last 30 seconds - dump this information every 5 seconds."
      ],
      "metadata": {
        "id": "5yy3_7xpQMew"
      }
    },
    {
      "cell_type": "code",
      "source": [],
      "metadata": {
        "id": "XegUvrgiQRfM"
      },
      "execution_count": null,
      "outputs": []
    },
    {
      "cell_type": "markdown",
      "source": [
        "## Exercise 4\n",
        "\n",
        "Run additional logsender servers for subsets of the logs (IPv4 and IPv6 logs), using the following commands.\n",
        "\n",
        "```\n",
        "!nohup python logsender/server.py logsender/webipv4.log 7778 > /dev/null 2> /dev/null &\n",
        "!nohup python logsender/server.py logsender/webipv6.log 7779 > /dev/null 2> /dev/null &\n",
        "```\n",
        "\n",
        "Write a program that combines the two streams, dumping the number of requests made in the last 15 seconds - dump this information every 5 seconds."
      ],
      "metadata": {
        "id": "B3Wg5aecQSFM"
      }
    },
    {
      "cell_type": "code",
      "source": [],
      "metadata": {
        "id": "nqCtmOZwRfUi"
      },
      "execution_count": null,
      "outputs": []
    },
    {
      "cell_type": "markdown",
      "source": [
        "## Exercise 5\n",
        "\n",
        "Write a program that combines the two streams from the previous exercise and dumps the proportion of IPv4 vs IPv6 requests in the last 20 seconds - dump this information every 5 seconds.\n"
      ],
      "metadata": {
        "id": "ALselcFrRuYA"
      }
    },
    {
      "cell_type": "code",
      "source": [],
      "metadata": {
        "id": "3ZcmfAVlR63v"
      },
      "execution_count": null,
      "outputs": []
    }
  ]
}