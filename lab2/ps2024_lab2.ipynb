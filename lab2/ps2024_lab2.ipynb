{
  "cells": [
    {
      "cell_type": "markdown",
      "metadata": {
        "id": "view-in-github",
        "colab_type": "text"
      },
      "source": [
        "<a href=\"https://colab.research.google.com/github/smduarte/ps2024/blob/main/lab2/ps2024_lab2.ipynb\" target=\"_parent\"><img src=\"https://colab.research.google.com/assets/colab-badge.svg\" alt=\"Open In Colab\"/></a>"
      ]
    },
    {
      "cell_type": "markdown",
      "metadata": {
        "id": "KgFZlT_g8O1Y"
      },
      "source": [
        "# Processamento de Streams 2024\n",
        "## Lab 2 - (Unstructured) Spark Streaming\n",
        "---\n",
        "### Colab Setup\n",
        "\n"
      ]
    },
    {
      "cell_type": "code",
      "execution_count": null,
      "metadata": {
        "id": "1eIWfDqQ3Cqi"
      },
      "outputs": [],
      "source": [
        "#@title Mount Google Drive\n",
        "from google.colab import drive\n",
        "drive.mount('/content/drive')"
      ]
    },
    {
      "cell_type": "code",
      "execution_count": null,
      "metadata": {
        "id": "L2O_3I3x1dbx"
      },
      "outputs": [],
      "source": [
        "#@title Install PySpark\n",
        "!pip install pyspark findspark --quiet\n",
        "import findspark\n",
        "findspark.init()\n",
        "findspark.find()\n",
        "\n",
        "import warnings\n",
        "warnings.simplefilter(action='ignore', category=FutureWarning)"
      ]
    },
    {
      "cell_type": "markdown",
      "metadata": {
        "id": "51ECJ--i0D2G"
      },
      "source": [
        "---\n",
        "### Weblog Sender\n",
        "The stream server is a small python TCP server, listening\n",
        "on port 7777 (localhost).\n",
        "\n",
        "The stream will consist of a set of text lines, obtained from the output log of a webserver.\n",
        "\n"
      ]
    },
    {
      "cell_type": "code",
      "execution_count": null,
      "metadata": {
        "id": "GElosFxt-D4j"
      },
      "outputs": [],
      "source": [
        "!wget -q -O - https://github.com/smduarte/ps2024/raw/main/colab/logsender.tgz | tar xfz - 2> /dev/null\n",
        "\n",
        "!nohup python logsender/server.py logsender/web.log 7777 > /dev/null 2> /dev/null &"
      ]
    },
    {
      "cell_type": "markdown",
      "metadata": {
        "id": "1wihC26vaiT1"
      },
      "source": [
        "The python code below shows the basics needed to process data from socket source using PySpark.\n",
        "\n",
        "Spark Streaming python documentation is found [here](https://spark.apache.org/docs/latest/api/python/reference/pyspark.streaming.html)"
      ]
    },
    {
      "cell_type": "code",
      "execution_count": null,
      "metadata": {
        "id": "YWL6Aqy0qc_w"
      },
      "outputs": [],
      "source": [
        "\n",
        "from pyspark.sql import *\n",
        "from pyspark import SparkContext\n",
        "from pyspark.streaming import StreamingContext\n",
        "\n",
        "spark = SparkSession.builder.master('local[*]').appName('WebLogExample').getOrCreate()\n",
        "sc = spark.sparkContext\n",
        "\n",
        "try :\n",
        "  ssc = StreamingContext(sc, 1)\n",
        "  lines = ssc.socketTextStream(\"localhost\", 7777)\n",
        "\n",
        "  lines.pprint()\n",
        "\n",
        "  ssc.start()\n",
        "  ssc.awaitTermination(10)\n",
        "except Exception as err:\n",
        "  ssc.stop()"
      ]
    },
    {
      "cell_type": "markdown",
      "metadata": {
        "id": "THPCe5kkaEr-"
      },
      "source": [
        "---\n",
        "# Exercises\n",
        "\n",
        "## Exercise 1\n",
        "\n",
        "In a denial-of-service event it is important to identify the IP sources that might be attacking the system, by issuing a large number of requests.\n",
        "\n",
        "Write a program to find the IP sources that have done more than 50 requests in the last 10 seconds -- dump this information every 5 seconds.\n"
      ]
    },
    {
      "cell_type": "code",
      "source": [],
      "metadata": {
        "id": "E0IyWnQyRI5S"
      },
      "execution_count": null,
      "outputs": []
    },
    {
      "cell_type": "markdown",
      "source": [
        "## Exercise 2"
      ],
      "metadata": {
        "id": "taS-ndX8RORZ"
      }
    },
    {
      "cell_type": "markdown",
      "metadata": {
        "id": "ZmM2Ey9YQEQw"
      },
      "source": [
        "\n",
        "\n",
        "#### 2a)\n",
        "Write a program to dump the *number of requests*, *minimum processing time* and *maximum processing time*, for requests made in the last 10 seconds, **for all** source IPs that performed more than 100 requests -- dump this information every 5 seconds.  "
      ]
    },
    {
      "cell_type": "code",
      "execution_count": null,
      "metadata": {
        "id": "4003eAI6QL86"
      },
      "outputs": [],
      "source": []
    },
    {
      "cell_type": "markdown",
      "metadata": {
        "id": "prmPPodzDwL6"
      },
      "source": [
        "#### 2b)\n",
        "Write a program to dump the *number of requests*, *minimum processing time*, *maximum processing time*, for requests made in the last 10 seconds, **but only if at least one** source IP has performed more than 100 requests -- dump this information every 5 seconds."
      ]
    },
    {
      "cell_type": "code",
      "execution_count": null,
      "metadata": {
        "id": "NLXgZnC_DwoP"
      },
      "outputs": [],
      "source": []
    },
    {
      "cell_type": "markdown",
      "metadata": {
        "id": "5yy3_7xpQMew"
      },
      "source": [
        "## Exercise 3\n",
        "Write a program to dump the top 3 IP sources that deviate the most from the average in terms of the number of requests made in the last 30 seconds - dump this information every 5 seconds."
      ]
    },
    {
      "cell_type": "code",
      "execution_count": null,
      "metadata": {
        "id": "XegUvrgiQRfM"
      },
      "outputs": [],
      "source": []
    },
    {
      "cell_type": "markdown",
      "metadata": {
        "id": "B3Wg5aecQSFM"
      },
      "source": [
        "## Exercise 4\n",
        "\n",
        "Run additional logsender servers for subsets of the logs (IPv4 and IPv6 logs), using the following commands.\n",
        "\n",
        "```\n",
        "!nohup python logsender/server.py logsender/webipv4.log 7778 > /dev/null 2> /dev/null &\n",
        "!nohup python logsender/server.py logsender/webipv6.log 7779 > /dev/null 2> /dev/null &\n",
        "```\n",
        "\n",
        "Write a program that combines the two streams, dumping the number of requests made in the last 15 seconds - dump this information every 5 seconds."
      ]
    },
    {
      "cell_type": "code",
      "execution_count": null,
      "metadata": {
        "id": "nqCtmOZwRfUi"
      },
      "outputs": [],
      "source": []
    },
    {
      "cell_type": "markdown",
      "metadata": {
        "id": "ALselcFrRuYA"
      },
      "source": [
        "## Exercise 5\n",
        "\n",
        "Write a program that combines the two streams from the previous exercise and dumps the proportion of IPv4 vs IPv6 requests in the last 20 seconds - dump this information every 5 seconds.\n"
      ]
    },
    {
      "cell_type": "code",
      "execution_count": null,
      "metadata": {
        "id": "3ZcmfAVlR63v"
      },
      "outputs": [],
      "source": []
    }
  ],
  "metadata": {
    "colab": {
      "provenance": [],
      "include_colab_link": true
    },
    "kernelspec": {
      "display_name": "Python 3 (ipykernel)",
      "language": "python",
      "name": "python3"
    },
    "language_info": {
      "codemirror_mode": {
        "name": "ipython",
        "version": 3
      },
      "file_extension": ".py",
      "mimetype": "text/x-python",
      "name": "python",
      "nbconvert_exporter": "python",
      "pygments_lexer": "ipython3",
      "version": "3.9.16"
    }
  },
  "nbformat": 4,
  "nbformat_minor": 0
}