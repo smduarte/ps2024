{
  "cells": [
    {
      "cell_type": "markdown",
      "metadata": {
        "id": "view-in-github",
        "colab_type": "text"
      },
      "source": [
        "<a href=\"https://colab.research.google.com/github/smduarte/ps2024/blob/main/lab2/ps2024_lab2.ipynb\" target=\"_parent\"><img src=\"https://colab.research.google.com/assets/colab-badge.svg\" alt=\"Open In Colab\"/></a>"
      ]
    },
    {
      "cell_type": "markdown",
      "metadata": {
        "id": "KgFZlT_g8O1Y"
      },
      "source": [
        "# Processamento de Streams 2024\n",
        "## Lab 2 - (Unstructured) Spark Streaming\n",
        "---\n",
        "### Colab Setup\n",
        "\n"
      ]
    },
    {
      "cell_type": "code",
      "execution_count": null,
      "metadata": {
        "id": "1eIWfDqQ3Cqi"
      },
      "outputs": [],
      "source": [
        "#@title Mount Google Drive\n",
        "from google.colab import drive\n",
        "drive.mount('/content/drive')"
      ]
    },
    {
      "cell_type": "code",
      "execution_count": 1,
      "metadata": {
        "id": "L2O_3I3x1dbx",
        "colab": {
          "base_uri": "https://localhost:8080/"
        },
        "outputId": "773038d6-da5c-45b4-d659-ef4665d5b624"
      },
      "outputs": [
        {
          "output_type": "stream",
          "name": "stdout",
          "text": [
            "\u001b[2K     \u001b[90m━━━━━━━━━━━━━━━━━━━━━━━━━━━━━━━━━━━━━━━━\u001b[0m \u001b[32m317.0/317.0 MB\u001b[0m \u001b[31m2.2 MB/s\u001b[0m eta \u001b[36m0:00:00\u001b[0m\n",
            "\u001b[?25h  Preparing metadata (setup.py) ... \u001b[?25l\u001b[?25hdone\n",
            "  Building wheel for pyspark (setup.py) ... \u001b[?25l\u001b[?25hdone\n"
          ]
        }
      ],
      "source": [
        "#@title Install PySpark\n",
        "!pip install pyspark findspark --quiet\n",
        "import findspark\n",
        "findspark.init()\n",
        "findspark.find()\n",
        "\n",
        "import warnings\n",
        "warnings.simplefilter(action='ignore', category=FutureWarning)"
      ]
    },
    {
      "cell_type": "markdown",
      "metadata": {
        "id": "51ECJ--i0D2G"
      },
      "source": [
        "---\n",
        "### Weblog Sender\n",
        "The stream server is a small python TCP server, listening\n",
        "on port 7777 (localhost).\n",
        "\n",
        "The stream will consist of a set of text lines, obtained from the output log of a webserver.\n",
        "\n"
      ]
    },
    {
      "cell_type": "code",
      "execution_count": 2,
      "metadata": {
        "id": "GElosFxt-D4j"
      },
      "outputs": [],
      "source": [
        "!wget -q -O - https://github.com/smduarte/ps2024/raw/main/colab/logsender.tgz | tar xfz - 2> /dev/null\n",
        "\n",
        "!nohup python logsender/server.py logsender/web.log 7777 > /dev/null 2> /dev/null &"
      ]
    },
    {
      "cell_type": "markdown",
      "metadata": {
        "id": "1wihC26vaiT1"
      },
      "source": [
        "The python code below shows the basics needed to process data from socket source using PySpark.\n",
        "\n",
        "Spark Streaming python documentation is found [here](https://spark.apache.org/docs/latest/api/python/reference/pyspark.streaming.html)"
      ]
    },
    {
      "cell_type": "code",
      "execution_count": 3,
      "metadata": {
        "id": "YWL6Aqy0qc_w",
        "colab": {
          "base_uri": "https://localhost:8080/"
        },
        "outputId": "34b43272-45f2-49e3-af79-ddb044f95bc4"
      },
      "outputs": [
        {
          "output_type": "stream",
          "name": "stdout",
          "text": [
            "-------------------------------------------\n",
            "Time: 2024-03-10 21:27:29\n",
            "-------------------------------------------\n",
            "\n",
            "-------------------------------------------\n",
            "Time: 2024-03-10 21:27:30\n",
            "-------------------------------------------\n",
            "\n",
            "-------------------------------------------\n",
            "Time: 2024-03-10 21:27:31\n",
            "-------------------------------------------\n",
            "2024-03-10T21:27:29.806+0000 37.139.9.11 404 GET /codemove/TTCENCUFMH3C 0.026  \n",
            "2024-03-10T21:27:29.882+0000 178.22.148.122 404 GET /codemove/PSO83TYKET12 0.088  \n",
            "2024-03-10T21:27:29.882+0000 178.22.148.122 404 GET /codemove/PSO83TYKET12 0.088  \n",
            "2024-03-10T21:27:29.882+0000 37.139.9.11 404 GET /codemove/TTCENCUFMH3C 0.057  \n",
            "2024-03-10T21:27:30.156+0000 37.139.9.11 404 GET /codemove/TTCENCUFMH3C 0.015  \n",
            "2024-03-10T21:27:30.208+0000 185.28.193.95 404 GET /codemove/1U6HCG3V2S9D 0.056  \n",
            "2024-03-10T21:27:30.208+0000 185.28.193.95 404 GET /codemove/1U6HCG3V2S9D 0.052  \n",
            "2024-03-10T21:27:30.208+0000 185.28.193.95 404 GET /codemove/1U6HCG3V2S9D 0.055  \n",
            "2024-03-10T21:27:30.208+0000 185.28.193.95 404 GET /codemove/1U6HCG3V2S9D 0.013  \n",
            "2024-03-10T21:27:30.398+0000 37.139.9.11 404 GET /codemove/TTCENCUFMH3C 0.039  \n",
            "...\n",
            "\n",
            "-------------------------------------------\n",
            "Time: 2024-03-10 21:27:32\n",
            "-------------------------------------------\n",
            "2024-03-10T21:27:30.804+0000 185.28.193.95 404 GET /codemove/1U6HCG3V2S9D 0.181  \n",
            "2024-03-10T21:27:30.804+0000 185.28.193.95 404 GET /codemove/1U6HCG3V2S9D 0.174  \n",
            "2024-03-10T21:27:30.804+0000 192.241.151.220 404 GET /codemove/2CEBGK8M78Y7 1.972  \n",
            "2024-03-10T21:27:30.804+0000 185.28.193.95 404 GET /codemove/1U6HCG3V2S9D 0.169  \n",
            "2024-03-10T21:27:30.804+0000 185.28.193.95 404 GET /codemove/1U6HCG3V2S9D 0.166  \n",
            "2024-03-10T21:27:30.804+0000 185.28.193.95 404 GET /codemove/1U6HCG3V2S9D 0.459  \n",
            "2024-03-10T21:27:30.804+0000 185.28.193.95 404 GET /codemove/1U6HCG3V2S9D 0.488  \n",
            "2024-03-10T21:27:30.804+0000 185.28.193.95 404 GET /codemove/1U6HCG3V2S9D 1.666  \n",
            "2024-03-10T21:27:30.805+0000 185.28.193.95 404 GET /codemove/1U6HCG3V2S9D 1.473  \n",
            "2024-03-10T21:27:30.805+0000 185.28.193.95 404 GET /codemove/1U6HCG3V2S9D 1.572  \n",
            "...\n",
            "\n",
            "-------------------------------------------\n",
            "Time: 2024-03-10 21:27:33\n",
            "-------------------------------------------\n",
            "2024-03-10T21:27:31.823+0000 2a01:488:66:1000:5c33:8503:0:1 404 GET /codemove/TYVRFD3NGGXK 40.872  \n",
            "\n",
            "-------------------------------------------\n",
            "Time: 2024-03-10 21:27:34\n",
            "-------------------------------------------\n",
            "2024-03-10T21:27:32.824+0000 120.52.73.97 404 GET /codemove/ICGPOQXLVXFS 41.959  \n",
            "2024-03-10T21:27:32.828+0000 97.77.104.22 404 GET /codemove/7HIW17K7FDZI 40.950  \n",
            "2024-03-10T21:27:32.828+0000 97.77.104.22 404 GET /codemove/7HIW17K7FDZI 41.570  \n",
            "2024-03-10T21:27:32.832+0000 178.22.148.122 404 GET /codemove/PSO83TYKET12 40.855  \n",
            "2024-03-10T21:27:32.832+0000 97.77.104.22 404 GET /codemove/7HIW17K7FDZI 41.358  \n",
            "2024-03-10T21:27:32.838+0000 120.52.73.97 404 GET /codemove/BJJHJB8J8T7C 41.845  \n",
            "2024-03-10T21:27:32.840+0000 120.52.73.97 404 GET /codemove/ZXIJYXW4KHLG 41.849  \n",
            "2024-03-10T21:27:32.848+0000 120.52.73.97 404 GET /codemove/UPVQ9X3JHLIC 41.763  \n",
            "2024-03-10T21:27:32.888+0000 120.52.73.98 404 GET /codemove/5Q9SRR2G46PJ 41.820  \n",
            "2024-03-10T21:27:32.888+0000 192.241.151.220 404 GET /codemove/2CEBGK8M78Y7 41.521  \n",
            "...\n",
            "\n",
            "-------------------------------------------\n",
            "Time: 2024-03-10 21:27:35\n",
            "-------------------------------------------\n",
            "2024-03-10T21:27:33.801+0000 2a01:488:66:1000:5c33:8503:0:1 404 GET /codemove/TYVRFD3NGGXK 3.653  \n",
            "2024-03-10T21:27:33.801+0000 192.241.151.220 404 GET /codemove/2CEBGK8M78Y7 0.240  \n",
            "2024-03-10T21:27:33.801+0000 120.52.73.97 404 GET /codemove/BRPB8Y32OAGA 42.572  \n",
            "2024-03-10T21:27:33.801+0000 120.52.73.98 404 GET /codemove/HXHGRN3D4EJZ 42.342  \n",
            "2024-03-10T21:27:33.801+0000 192.241.151.220 404 GET /codemove/2CEBGK8M78Y7 42.527  \n",
            "2024-03-10T21:27:33.801+0000 120.52.73.98 404 GET /codemove/GXZ23905JVVB 42.333  \n",
            "2024-03-10T21:27:33.801+0000 120.52.73.98 404 GET /codemove/MYSJR8T268G4 42.317  \n",
            "2024-03-10T21:27:33.802+0000 120.52.73.98 404 GET /codemove/6GTXIA9YHX09 42.316  \n",
            "2024-03-10T21:27:33.802+0000 97.77.104.22 404 GET /codemove/7HIW17K7FDZI 42.268  \n",
            "2024-03-10T21:27:33.802+0000 120.52.73.97 404 GET /codemove/1N80W0N2R36C 44.040  \n",
            "...\n",
            "\n",
            "-------------------------------------------\n",
            "Time: 2024-03-10 21:27:36\n",
            "-------------------------------------------\n",
            "2024-03-10T21:27:34.826+0000 120.52.73.98 404 GET /codemove/XWINUYKVHCSK 0.212  \n",
            "2024-03-10T21:27:34.926+0000 120.52.73.98 404 GET /codemove/HXHGRN3D4EJZ 0.177  \n",
            "2024-03-10T21:27:34.926+0000 120.52.73.97 404 GET /codemove/ZXIJYXW4KHLG 0.343  \n",
            "2024-03-10T21:27:34.926+0000 2a01:488:66:1000:5c33:8503:0:1 404 GET /codemove/TYVRFD3NGGXK 3.722  \n",
            "2024-03-10T21:27:34.926+0000 120.52.73.97 404 GET /codemove/FJAQU6441E84 0.216  \n",
            "2024-03-10T21:27:34.936+0000 97.77.104.22 404 GET /codemove/7HIW17K7FDZI 0.123  \n",
            "2024-03-10T21:27:34.964+0000 192.241.151.220 404 GET /codemove/2CEBGK8M78Y7 0.284  \n",
            "2024-03-10T21:27:34.964+0000 120.52.73.98 404 GET /codemove/01IX95N3AFP4 0.370  \n",
            "2024-03-10T21:27:34.982+0000 202.47.236.252 404 GET /codemove/CNDHDS3RE0QZ 0.357  \n",
            "2024-03-10T21:27:34.986+0000 120.52.73.97 404 GET /codemove/BJJHJB8J8T7C 0.447  \n",
            "...\n",
            "\n",
            "-------------------------------------------\n",
            "Time: 2024-03-10 21:27:37\n",
            "-------------------------------------------\n",
            "2024-03-10T21:27:35.801+0000 120.52.73.97 404 GET /codemove/1N80W0N2R36C 3.855  \n",
            "2024-03-10T21:27:35.801+0000 178.22.148.122 404 GET /codemove/IUKY0G8DDBX7 43.974  \n",
            "2024-03-10T21:27:35.802+0000 120.52.73.97 404 GET /codemove/LX4H6RPHOUF1 0.243  \n",
            "2024-03-10T21:27:35.802+0000 120.52.73.97 404 GET /codemove/K7L3XDX7EHZP 0.416  \n",
            "2024-03-10T21:27:35.802+0000 202.47.236.252 404 GET /codemove/CNDHDS3RE0QZ 0.405  \n",
            "2024-03-10T21:27:35.802+0000 120.52.73.97 404 GET /codemove/CIRD8XHJRQCG 0.408  \n",
            "2024-03-10T21:27:35.802+0000 192.241.151.220 404 GET /codemove/2CEBGK8M78Y7 3.212  \n",
            "2024-03-10T21:27:35.803+0000 120.52.73.98 404 GET /codemove/5Q9SRR2G46PJ 0.491  \n",
            "2024-03-10T21:27:35.803+0000 120.52.73.97 404 GET /codemove/NHS9F9XTLQ1Z 3.798  \n",
            "2024-03-10T21:27:35.803+0000 192.241.151.220 404 GET /codemove/UPP72ZXJ4VNE 3.589  \n",
            "...\n",
            "\n",
            "-------------------------------------------\n",
            "Time: 2024-03-10 21:27:38\n",
            "-------------------------------------------\n",
            "2024-03-10T21:27:36.811+0000 178.22.148.122 404 GET /codemove/PSO83TYKET12 0.141  \n",
            "2024-03-10T21:27:36.832+0000 120.52.73.98 404 GET /codemove/XWINUYKVHCSK 0.322  \n",
            "2024-03-10T21:27:36.832+0000 178.22.148.122 404 GET /codemove/PSO83TYKET12 0.310  \n",
            "2024-03-10T21:27:36.832+0000 178.22.148.122 404 GET /codemove/PSO83TYKET12 53.222  \n",
            "2024-03-10T21:27:36.832+0000 202.47.236.252 404 GET /codemove/6RE6FW42O27K 0.303  \n",
            "2024-03-10T21:27:36.832+0000 120.52.73.97 404 GET /codemove/FJAQU6441E84 44.970  \n",
            "2024-03-10T21:27:36.834+0000 97.77.104.22 404 GET /codemove/7HIW17K7FDZI 3.200  \n",
            "2024-03-10T21:27:36.872+0000 178.22.148.122 404 GET /codemove/PSO83TYKET12 53.207  \n",
            "2024-03-10T21:27:36.873+0000 120.52.73.98 404 GET /codemove/H7LRBDS5OFB9 54.207  \n",
            "2024-03-10T21:27:36.873+0000 97.77.104.22 404 GET /codemove/12M9PNNIPT3Z 53.738  \n",
            "...\n",
            "\n"
          ]
        }
      ],
      "source": [
        "\n",
        "from pyspark.sql import *\n",
        "from pyspark import SparkContext\n",
        "from pyspark.streaming import StreamingContext\n",
        "\n",
        "spark = SparkSession.builder.master('local[*]').appName('WebLogExample').getOrCreate()\n",
        "sc = spark.sparkContext\n",
        "\n",
        "try :\n",
        "  ssc = StreamingContext(sc, 1)\n",
        "  lines = ssc.socketTextStream(\"localhost\", 7777)\n",
        "\n",
        "  lines.pprint()\n",
        "\n",
        "  ssc.start()\n",
        "  ssc.awaitTermination(10)\n",
        "except Exception as err:\n",
        "  ssc.stop()"
      ]
    },
    {
      "cell_type": "markdown",
      "metadata": {
        "id": "THPCe5kkaEr-"
      },
      "source": [
        "---\n",
        "# Exercises\n",
        "\n",
        "## Exercise 1\n",
        "\n",
        "In a denial-of-service event it is important to identify the IP sources that might be attacking the system, by issuing a large number of requests.\n",
        "\n",
        "Write a program to find the IP sources that have done more than 50 requests in the last 10 seconds -- dump this information every 5 seconds.\n"
      ]
    },
    {
      "cell_type": "code",
      "source": [],
      "metadata": {
        "id": "E0IyWnQyRI5S"
      },
      "execution_count": null,
      "outputs": []
    },
    {
      "cell_type": "markdown",
      "source": [
        "## Exercise 2"
      ],
      "metadata": {
        "id": "taS-ndX8RORZ"
      }
    },
    {
      "cell_type": "markdown",
      "metadata": {
        "id": "ZmM2Ey9YQEQw"
      },
      "source": [
        "\n",
        "\n",
        "#### 2a)\n",
        "Write a program to dump the *number of requests*, *minimum processing time* and *maximum processing time*, for requests made in the last 10 seconds, **for all** source IPs that performed more than 100 requests -- dump this information every 5 seconds.  "
      ]
    },
    {
      "cell_type": "code",
      "execution_count": null,
      "metadata": {
        "id": "4003eAI6QL86"
      },
      "outputs": [],
      "source": []
    },
    {
      "cell_type": "markdown",
      "metadata": {
        "id": "prmPPodzDwL6"
      },
      "source": [
        "#### 2b)\n",
        "Write a program to dump the *number of requests*, *minimum processing time*, *maximum processing time*, for requests made in the last 10 seconds, **but only if at least one** source IP has performed more than 100 requests -- dump this information every 5 seconds."
      ]
    },
    {
      "cell_type": "code",
      "execution_count": null,
      "metadata": {
        "id": "NLXgZnC_DwoP"
      },
      "outputs": [],
      "source": []
    },
    {
      "cell_type": "markdown",
      "metadata": {
        "id": "5yy3_7xpQMew"
      },
      "source": [
        "## Exercise 3\n",
        "Write a program to dump the top 3 IP sources that deviate the most from the average in terms of the number of requests made in the last 30 seconds - dump this information every 5 seconds."
      ]
    },
    {
      "cell_type": "code",
      "execution_count": null,
      "metadata": {
        "id": "XegUvrgiQRfM"
      },
      "outputs": [],
      "source": []
    },
    {
      "cell_type": "markdown",
      "metadata": {
        "id": "B3Wg5aecQSFM"
      },
      "source": [
        "## Exercise 4\n",
        "\n",
        "Run additional logsender servers for subsets of the logs (IPv4 and IPv6 logs), using the following commands.\n",
        "\n",
        "```\n",
        "!nohup python logsender/server.py logsender/webipv4.log 7778 > /dev/null 2> /dev/null &\n",
        "!nohup python logsender/server.py logsender/webipv6.log 7779 > /dev/null 2> /dev/null &\n",
        "```\n",
        "\n",
        "Write a program that combines the two streams, dumping the number of requests made in the last 15 seconds - dump this information every 5 seconds."
      ]
    },
    {
      "cell_type": "code",
      "execution_count": null,
      "metadata": {
        "id": "nqCtmOZwRfUi"
      },
      "outputs": [],
      "source": []
    },
    {
      "cell_type": "markdown",
      "metadata": {
        "id": "ALselcFrRuYA"
      },
      "source": [
        "## Exercise 5\n",
        "\n",
        "Write a program that combines the two streams from the previous exercise and dumps the proportion of IPv4 vs IPv6 requests in the last 20 seconds - dump this information every 5 seconds.\n"
      ]
    },
    {
      "cell_type": "code",
      "execution_count": null,
      "metadata": {
        "id": "3ZcmfAVlR63v"
      },
      "outputs": [],
      "source": []
    }
  ],
  "metadata": {
    "colab": {
      "provenance": [],
      "include_colab_link": true
    },
    "kernelspec": {
      "display_name": "Python 3 (ipykernel)",
      "language": "python",
      "name": "python3"
    },
    "language_info": {
      "codemirror_mode": {
        "name": "ipython",
        "version": 3
      },
      "file_extension": ".py",
      "mimetype": "text/x-python",
      "name": "python",
      "nbconvert_exporter": "python",
      "pygments_lexer": "ipython3",
      "version": "3.9.16"
    }
  },
  "nbformat": 4,
  "nbformat_minor": 0
}