{
  "nbformat": 4,
  "nbformat_minor": 0,
  "metadata": {
    "colab": {
      "name": "ps2024-lab3-sol",
      "provenance": [],
      "include_colab_link": true
    },
    "kernelspec": {
      "name": "python3",
      "display_name": "Python 3"
    },
    "language_info": {
      "name": "python"
    }
  },
  "cells": [
    {
      "cell_type": "markdown",
      "metadata": {
        "id": "view-in-github",
        "colab_type": "text"
      },
      "source": [
        "<a href=\"https://colab.research.google.com/github/smduarte/ps2024/blob/main/lab4/ps2024_lab3_sol.ipynb\" target=\"_parent\"><img src=\"https://colab.research.google.com/assets/colab-badge.svg\" alt=\"Open In Colab\"/></a>"
      ]
    },
    {
      "cell_type": "markdown",
      "metadata": {
        "id": "KgFZlT_g8O1Y"
      },
      "source": [
        "# Processamento de Streams 2024\n",
        "## Lab 3 - Structured Spark Streaming (Solução)\n",
        "---\n",
        "### Colab Setup\n",
        "\n"
      ]
    },
    {
      "cell_type": "code",
      "metadata": {
        "id": "1eIWfDqQ3Cqi"
      },
      "source": [
        "#@title Mount Google Drive\n",
        "from google.colab import drive\n",
        "drive.mount('/content/drive')"
      ],
      "execution_count": null,
      "outputs": []
    },
    {
      "cell_type": "code",
      "source": [
        "#@title Install PySpark\n",
        "!pip install pyspark findspark --quiet\n",
        "import findspark\n",
        "findspark.init()\n",
        "findspark.find()"
      ],
      "metadata": {
        "id": "L2O_3I3x1dbx"
      },
      "execution_count": null,
      "outputs": []
    },
    {
      "cell_type": "markdown",
      "source": [
        "---\n",
        "### Weblog Sender\n",
        "The stream server is a small python TCP server, listening\n",
        "on port 7777 (localhost). \n",
        "\n",
        "The stream will consist of a set of text lines, obtained from the output log of a webserver.\n",
        "\n"
      ],
      "metadata": {
        "id": "51ECJ--i0D2G"
      }
    },
    {
      "cell_type": "code",
      "source": [
        "!wget -q -O - https://github.com/smduarte/ps2024/raw/main/colab/logsender.tgz | tar xfz - 2> /dev/null\n",
        "\n",
        "!nohup python logsender/server.py logsender/web.log 7777 > /dev/null 2> /dev/null &"
      ],
      "metadata": {
        "id": "GElosFxt-D4j"
      },
      "execution_count": null,
      "outputs": []
    },
    {
      "cell_type": "markdown",
      "source": [
        "The python code below shows the basics needed to process data from socket source using PySpark.\n",
        "\n",
        "Spark Streaming python documentation is found [here](https://spark.apache.org/docs/latest/api/python/reference/pyspark.streaming.html)"
      ],
      "metadata": {
        "id": "1wihC26vaiT1"
      }
    },
    {
      "cell_type": "code",
      "metadata": {
        "id": "QpO0aX2PPWd1"
      },
      "source": [
        "from pyspark.sql import SparkSession\n",
        "from pyspark.sql.functions import explode, split, count\n",
        "\n",
        "spark = SparkSession \\\n",
        "    .builder \\\n",
        "    .appName('StructuredWebLogExample') \\\n",
        "    .getOrCreate()\n",
        "\n",
        "# Create DataFrame representing the stream of input\n",
        "# lines from connection to logsender 7777\n",
        "\n",
        "lines = spark.readStream.format('socket') \\\n",
        "    .option('host', 'localhost') \\\n",
        "    .option('port', 7777) \\\n",
        "    .load()\n",
        "\n",
        "query = lines \\\n",
        "    .writeStream \\\n",
        "    .outputMode('append') \\\n",
        "    .trigger(processingTime='1 seconds') \\\n",
        "    .foreachBatch(lambda df, epoch: df.show(10, False)) \\\n",
        "    .start()\n",
        "\n",
        "query.awaitTermination(60)\n",
        "query.stop()\n"
      ],
      "execution_count": null,
      "outputs": []
    },
    {
      "cell_type": "markdown",
      "source": [
        "---\n",
        "# Exercises\n",
        "\n",
        "## Exercise 1\n",
        "\n",
        "In a denial-of-service event it is important to identify the IP sources that might be attacking the system, by issuing a large number of requests.\n",
        "\n",
        "Write a program to find the IP sources that have done more than 50 requests in the last 10 seconds -- dump this information every 5 seconds. \n"
      ],
      "metadata": {
        "id": "THPCe5kkaEr-"
      }
    },
    {
      "cell_type": "markdown",
      "source": [
        "#### Using COMPLETE output mode.\n",
        "\n",
        "In this mode, we can order the result in the main query."
      ],
      "metadata": {
        "id": "T5yIpX1O5hFv"
      }
    },
    {
      "cell_type": "code",
      "source": [
        "from pyspark.sql import SparkSession\n",
        "from pyspark.sql.functions import *\n",
        "\n",
        "spark = SparkSession \\\n",
        "    .builder \\\n",
        "    .appName('StructuredWebLogExample') \\\n",
        "    .getOrCreate()\n",
        "\n",
        "# Create DataFrame representing the stream of input\n",
        "# lines from connection to logsender 7777\n",
        "\n",
        "lines = spark.readStream.format('socket') \\\n",
        "    .option('host', 'localhost') \\\n",
        "    .option('port', 7777) \\\n",
        "    .load()\n",
        "\n",
        "sl = split( lines.value, ' ')\n",
        "results = lines \\\n",
        "      .withColumn('time', sl.getItem(0).cast('timestamp')) \\\n",
        "      .withColumn('ip', sl.getItem(1).cast('string')) \\\n",
        "      .drop('value')\n",
        "\n",
        "results = results \\\n",
        "          .withWatermark('time', '1 seconds') \\\n",
        "          .groupBy( window( results.time, '10 seconds', '5 seconds'), 'ip') \\\n",
        "          .count().alias('count') \\\n",
        "          .where( 'count > 50') \\\n",
        "          .orderBy(['window', 'count'], ascending=True)\n",
        "\n",
        "query = results \\\n",
        "    .writeStream \\\n",
        "    .outputMode('complete') \\\n",
        "    .trigger(processingTime='1 seconds') \\\n",
        "    .foreachBatch(lambda df, epoch: df.show(100, False)) \\\n",
        "    .start()\n",
        "\n",
        "query.awaitTermination(60)\n",
        "query.stop()\n"
      ],
      "metadata": {
        "id": "Dtav45IoQDzy"
      },
      "execution_count": null,
      "outputs": []
    },
    {
      "cell_type": "markdown",
      "source": [
        "#### Using UPDATE output mode.\n",
        "\n",
        "In this mode, we have to order in the output sink"
      ],
      "metadata": {
        "id": "rJu_Q8qt5qeu"
      }
    },
    {
      "cell_type": "code",
      "source": [
        "from pyspark.sql import SparkSession\n",
        "from pyspark.sql.functions import *\n",
        "\n",
        "def dumpBatchDFOrdered(df, epoch_id):\n",
        "    df = df.orderBy('window', 'count', ascending=False)\n",
        "    df.show(truncate=False)\n",
        "\n",
        "\n",
        "spark = SparkSession \\\n",
        "    .builder \\\n",
        "    .appName('StructuredWebLogExample') \\\n",
        "    .getOrCreate()\n",
        "\n",
        "# Create DataFrame representing the stream of input\n",
        "# lines from connection to logsender 7777\n",
        "\n",
        "lines = spark.readStream.format('socket') \\\n",
        "    .option('host', 'localhost') \\\n",
        "    .option('port', 7777) \\\n",
        "    .load()\n",
        "\n",
        "sl = split( lines.value, ' ')\n",
        "results = lines \\\n",
        "      .withColumn('time', sl.getItem(0).cast('timestamp')) \\\n",
        "      .withColumn('ip', sl.getItem(1).cast('string')) \\\n",
        "      .drop('value')\n",
        "\n",
        "results = results \\\n",
        "          .withWatermark('time', '1 seconds') \\\n",
        "          .groupBy( window( results.time, '10 seconds', '5 seconds'), 'ip') \\\n",
        "          .count().alias('count') \\\n",
        "          .where( 'count > 50')\n",
        "\n",
        "query = results \\\n",
        "    .writeStream \\\n",
        "    .outputMode('update') \\\n",
        "    .foreachBatch( dumpBatchDFOrdered ) \\\n",
        "    .start()\n",
        "\n",
        "query.awaitTermination(60)\n",
        "query.stop()"
      ],
      "metadata": {
        "id": "IKqbFlMg5-iD"
      },
      "execution_count": null,
      "outputs": []
    },
    {
      "cell_type": "markdown",
      "source": [
        "## Exercise 2\n",
        "\n",
        "#### a)\n",
        "Write a program to dump the number of requests, minimum processing time, maximum processing time for request in the last 10 seconds, **for all** source IPs that performed more than 100 requests -- dump this information every 5 second.  "
      ],
      "metadata": {
        "id": "ZmM2Ey9YQEQw"
      }
    },
    {
      "cell_type": "code",
      "source": [
        "from pyspark.sql import SparkSession\n",
        "from pyspark.sql.types import *\n",
        "from pyspark.sql.functions import *\n",
        "\n",
        "def dumpBatchDF(df, epoch_id):\n",
        "  df.show(20, False)\n",
        "  \n",
        "spark = SparkSession \\\n",
        "    .builder \\\n",
        "    .appName('StructuredWebLogExample') \\\n",
        "    .getOrCreate()\n",
        "\n",
        "# Create DataFrame representing the stream of input \n",
        "# lines from connection to logsender 7776\n",
        "lines = spark.readStream.format('socket') \\\n",
        "    .option('host', 'localhost') \\\n",
        "    .option('port', 7777) \\\n",
        "    .load() \n",
        "\n",
        "sl = split(lines.value, ' ')\n",
        "results = lines.withColumn('time', sl.getItem(0).cast('timestamp')) \\\n",
        "    .withColumn('ip', sl.getItem(1).cast('string')) \\\n",
        "    .withColumn('dur', sl.getItem(5).cast('float')) \\\n",
        "    .drop('value')\n",
        "\n",
        "query = results \\\n",
        "    .withWatermark('time', '1 seconds') \\\n",
        "    .groupBy(window(results.time, '10 seconds','5 seconds'),'ip') \\\n",
        "    .agg(count('*').alias('count'), max('dur').alias('maxdur'), min('dur')) \\\n",
        "    .where('count > 100')\n",
        "\n",
        "\n",
        "# Dump the results\n",
        "query = query \\\n",
        "    .writeStream \\\n",
        "    .outputMode('complete') \\\n",
        "    .foreachBatch(dumpBatchDF) \\\n",
        "    .start()\n",
        "\n",
        "query.awaitTermination(60)\n",
        "query.stop()"
      ],
      "metadata": {
        "id": "4003eAI6QL86"
      },
      "execution_count": null,
      "outputs": []
    },
    {
      "cell_type": "markdown",
      "source": [
        "#### b)\n",
        "\n",
        "Write a program to dump the number of requests, minimum processing time, maximum processing time for request in the last 10 seconds, **only if at least one** source IP has performed more than 1000 requests -- dump this information every 5 second."
      ],
      "metadata": {
        "id": "prmPPodzDwL6"
      }
    },
    {
      "cell_type": "code",
      "source": [
        "from pyspark.sql import SparkSession\n",
        "from pyspark.sql.types import *\n",
        "from pyspark.sql.functions import *\n",
        "\n",
        "def dumpBatchDF(df, epoch_id):\n",
        "  df2 = df \\\n",
        "    .where('count > 1000') \\\n",
        "    .groupBy( df.window ) \\\n",
        "    .agg(count('*').alias('count_over_1000')) \n",
        "\n",
        "  df3 = df2.join( df, df.window == df2.window ).drop(df.window) \\\n",
        "          .where('count_over_1000 > 0') \\\n",
        "          .drop('count_over_1000')\n",
        "\n",
        "  df3.show(truncate=False)\n",
        "  \n",
        "try: \n",
        "  spark = SparkSession \\\n",
        "      .builder \\\n",
        "      .appName('StructuredWebLogExample') \\\n",
        "      .getOrCreate()\n",
        "\n",
        "  # Create DataFrame representing the stream of input \n",
        "  # lines from connection to logsender 7776\n",
        "  lines = spark.readStream.format('socket') \\\n",
        "      .option('host', 'localhost') \\\n",
        "      .option('port', 7777) \\\n",
        "      .load() \n",
        "\n",
        "  sl = split(lines.value, ' ')\n",
        "  results = lines.withColumn('time', sl.getItem(0).cast('timestamp')) \\\n",
        "      .withColumn('ip', sl.getItem(1).cast('string')) \\\n",
        "      .withColumn('dur', sl.getItem(5).cast('float')) \\\n",
        "      .drop('value')\n",
        "\n",
        "  query = results \\\n",
        "      .withWatermark('time', '1 seconds') \\\n",
        "      .groupBy(window(results.time,'10 seconds','5 seconds'),'ip') \\\n",
        "      .agg(count('*').alias('count'), max('dur').alias('maxdur'), min('dur').alias('mindur')) \\\n",
        "\n",
        "\n",
        "  # Dump the results\n",
        "  query = query \\\n",
        "      .writeStream \\\n",
        "      .outputMode('complete') \\\n",
        "      .foreachBatch(dumpBatchDF) \\\n",
        "      .start()\n",
        "\n",
        "  query.awaitTermination(120)\n",
        "except Exception as e:\n",
        "  print(e)\n",
        "\n",
        "query.stop()"
      ],
      "metadata": {
        "id": "NLXgZnC_DwoP"
      },
      "execution_count": null,
      "outputs": []
    },
    {
      "cell_type": "markdown",
      "source": [
        "## Exercise 3\n",
        "Write a program to dump the IP sources that deviate most from the average in terms of the number of requests made in the last 30 seconds - dump this information every 5 seconds."
      ],
      "metadata": {
        "id": "5yy3_7xpQMew"
      }
    },
    {
      "cell_type": "code",
      "source": [
        "from pyspark.sql import SparkSession\n",
        "from pyspark.sql.types import *\n",
        "from pyspark.sql.functions import *\n",
        "\n",
        "# Output functions does additional computation\n",
        "def dumpBatchDF(df, epoch_id):\n",
        "    df2 = df.groupBy('window') \\\n",
        "          .agg(avg('count').alias('avg'))\n",
        "\n",
        "    df3 = df2 \\\n",
        "      .join( df, df.window == df2.window ) \\\n",
        "      .drop(df.window) \n",
        "\n",
        "    df4 = df3\\\n",
        "          .selectExpr('window', 'ip', 'abs(count-avg) as deviation') \\\n",
        "          .orderBy('window','deviation', ascending=False)\\\n",
        "          .show(20, False)\n",
        "  \n",
        "spark = SparkSession \\\n",
        "    .builder \\\n",
        "    .appName('StructuredWebLogExample') \\\n",
        "    .getOrCreate()\n",
        "\n",
        "# Create DataFrame representing the stream of input \n",
        "# lines from connection to logsender 7776\n",
        "lines = spark.readStream.format('socket') \\\n",
        "    .option('host', 'localhost') \\\n",
        "    .option('port', 7777) \\\n",
        "    .load() \n",
        "\n",
        "sl = split(lines.value, ' ')\n",
        "results = lines \\\n",
        "    .withColumn('time', sl.getItem(0).cast('timestamp')) \\\n",
        "    .withColumn('ip', sl.getItem(1).cast('string')) \\\n",
        "    .drop('value')\n",
        "\n",
        "query = results \\\n",
        "    .withWatermark('time', '10 seconds') \\\n",
        "    .groupBy(window(results.time,'10 seconds','5 seconds'),'ip') \\\n",
        "    .agg(count('*').alias('count'))\n",
        "\n",
        "query = query \\\n",
        "    .writeStream \\\n",
        "    .outputMode('complete') \\\n",
        "    .foreachBatch(dumpBatchDF) \\\n",
        "    .start()\n",
        "\n",
        "query.awaitTermination(120)\n",
        "query.stop()"
      ],
      "metadata": {
        "id": "XegUvrgiQRfM"
      },
      "execution_count": null,
      "outputs": []
    },
    {
      "cell_type": "markdown",
      "source": [
        "## Exercise 4\n",
        "\n",
        "Run additional logsender servers for subsets of the logs (IPv4 and IPv6 logs), using the following commands.\n",
        "\n",
        "```\n",
        "!nohup python logsender/server.py logsender/webipv4.log 7778 > /dev/null 2> /dev/null &\n",
        "!nohup python logsender/server.py logsender/webipv6.log 7779 > /dev/null 2> /dev/null &\n",
        "```\n",
        "\n",
        "Write a program that combines the two streams, dumping the number of requests made in the last 15 seconds - dump this information every 5 seconds."
      ],
      "metadata": {
        "id": "B3Wg5aecQSFM"
      }
    },
    {
      "cell_type": "code",
      "source": [
        "!nohup python logsender/server.py logsender/webipv4.log 7778 > /dev/null 2> /dev/null &\n",
        "!nohup python logsender/server.py logsender/webipv6.log 7779 > /dev/null 2> /dev/null &"
      ],
      "metadata": {
        "id": "KUt-iIiEVTzz"
      },
      "execution_count": null,
      "outputs": []
    },
    {
      "cell_type": "code",
      "source": [
        "from pyspark.sql import SparkSession\n",
        "from pyspark.sql.types import *\n",
        "from pyspark.sql.functions import *\n",
        "from datetime import *\n",
        "\n",
        "spark = SparkSession \\\n",
        "    .builder \\\n",
        "    .appName('StructuredWebLogExample') \\\n",
        "    .getOrCreate()\n",
        "\n",
        "linesV4 = spark.readStream.format('socket') \\\n",
        "        .option('host', 'localhost') \\\n",
        "        .option('port', 7778) \\\n",
        "        .load() \n",
        "\n",
        "linesV6 = spark.readStream.format('socket') \\\n",
        "        .option('host', 'localhost') \\\n",
        "        .option('port', 7779) \\\n",
        "        .load() \n",
        "\n",
        "slV4 = split(linesV4.value, ' ')\n",
        "slV6 = split(linesV6.value, ' ')\n",
        "\n",
        "linesV4 = linesV4.withColumn('time', slV4.getItem(0).cast('timestamp')) \\\n",
        "        .withColumn('ip version', lit('v4')) \\\n",
        "        .drop('value')\n",
        "\n",
        "linesV6 = linesV6.withColumn('time', slV6.getItem(0).cast('timestamp')) \\\n",
        "        .withColumn('ip version', lit('v6')) \\\n",
        "        .drop('value')\n",
        "\n",
        "lines = linesV4.union(linesV6)\n",
        "\n",
        "results = lines \\\n",
        "        .groupBy(window(lines.time, \"15 seconds\",\"5 seconds\")) \\\n",
        "        .count() \\\n",
        "\n",
        "#results = lines \\\n",
        "#        .groupBy(window(lines.time, \"15 seconds\",\"5 seconds\"), 'ip version') \\\n",
        "#        .count()\n",
        "\n",
        "\n",
        "query = results \\\n",
        "        .writeStream \\\n",
        "        .outputMode('complete') \\\n",
        "        .foreachBatch(lambda df, _: df.show(5, False)) \\\n",
        "        .start()\n",
        "\n",
        "query.awaitTermination(120)\n",
        "query.stop()"
      ],
      "metadata": {
        "id": "nqCtmOZwRfUi"
      },
      "execution_count": null,
      "outputs": []
    },
    {
      "cell_type": "markdown",
      "source": [
        "## Exercise 5\n",
        "\n",
        "Write a program that combines the two streams from the previous exercise and dumps the proportion of IPv4 vs IPv6 requests in the last 20 seconds - dump this information every 5 seconds.\n"
      ],
      "metadata": {
        "id": "ALselcFrRuYA"
      }
    },
    {
      "cell_type": "code",
      "source": [
        "from pyspark.sql import SparkSession\n",
        "from pyspark.sql.types import *\n",
        "from pyspark.sql.functions import *\n",
        "from datetime import *\n",
        "\n",
        "# Output functions does additional computation\n",
        "def dumpBatchDF(df, epoch_id):\n",
        "  df2 = df \\\n",
        "      .groupBy( df.window ) \\\n",
        "      .agg(sum('count').alias('total'))\n",
        "\n",
        "  df3 = df2 \\\n",
        "      .join( df, df.window == df2.window ) \\\n",
        "      .drop(df2.window) \n",
        "\n",
        "  df4 = df3\\\n",
        "          .select('window', 'ip', df3['count'] / df3['total']) \\\n",
        "          .orderBy('window', ascending=False)\n",
        "\n",
        "  df4.show(20, False)\n",
        "\n",
        "spark = SparkSession \\\n",
        "    .builder \\\n",
        "    .appName('StructuredWebLogExample') \\\n",
        "    .getOrCreate()\n",
        "\n",
        "linesV4 = spark.readStream.format('socket') \\\n",
        "        .option('host', 'localhost') \\\n",
        "        .option('port', 7778) \\\n",
        "        .load() \n",
        "\n",
        "linesV6 = spark.readStream.format('socket') \\\n",
        "        .option('host', 'localhost') \\\n",
        "        .option('port', 7779) \\\n",
        "        .load() \n",
        "\n",
        "slV4 = split(linesV4.value, ' ')\n",
        "slV6 = split(linesV6.value, ' ')\n",
        "\n",
        "linesV4 = linesV4.withColumn('time', slV4.getItem(0).cast('timestamp')) \\\n",
        "        .withColumn('ip', lit('v4')) \\\n",
        "        .drop('value') \\\n",
        "\n",
        "linesV6 = linesV6.withColumn('time', slV6.getItem(0).cast('timestamp')) \\\n",
        "        .withColumn('ip', lit('v6')) \\\n",
        "        .drop('value')\n",
        "\n",
        "\n",
        "lines = linesV4.union( linesV6)\n",
        "\n",
        "results = lines \\\n",
        "        .withWatermark('time', '1 seconds') \\\n",
        "        .groupBy(window(lines.time, '10 seconds','5 seconds'), 'ip') \\\n",
        "        .count()\n",
        "\n",
        "query = results \\\n",
        "        .writeStream \\\n",
        "        .outputMode('complete') \\\n",
        "        .foreachBatch( dumpBatchDF ) \\\n",
        "        .start()\n",
        "\n",
        "query.awaitTermination(300)\n",
        "query.stop()"
      ],
      "metadata": {
        "id": "3ZcmfAVlR63v"
      },
      "execution_count": null,
      "outputs": []
    }
  ]
}