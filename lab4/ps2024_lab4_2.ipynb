{
  "nbformat": 4,
  "nbformat_minor": 0,
  "metadata": {
    "colab": {
      "name": "ps2024-lab4_2.ipynb",
      "private_outputs": true,
      "provenance": [],
      "include_colab_link": true
    },
    "kernelspec": {
      "name": "python3",
      "display_name": "Python 3"
    },
    "language_info": {
      "name": "python"
    }
  },
  "cells": [
    {
      "cell_type": "markdown",
      "metadata": {
        "id": "view-in-github",
        "colab_type": "text"
      },
      "source": [
        "<a href=\"https://colab.research.google.com/github/smduarte/ps2024/blob/main/lab4/ps2024_lab4_2.ipynb\" target=\"_parent\"><img src=\"https://colab.research.google.com/assets/colab-badge.svg\" alt=\"Open In Colab\"/></a>"
      ]
    },
    {
      "cell_type": "markdown",
      "source": [
        "# Processamento de Streams 2024\n",
        "## Lab 4.2 - Flume + Kafka Streaming \n",
        "\n",
        "Flume + Kafka + Spark Structured Streaming\n",
        "---\n",
        "### Colab Setup"
      ],
      "metadata": {
        "id": "K9XuYoaVpEmU"
      }
    },
    {
      "cell_type": "code",
      "execution_count": null,
      "metadata": {
        "id": "tTCPGfBKwnpR"
      },
      "outputs": [],
      "source": [
        "#@title Install Flume\n",
        "%%bash\n",
        "\n",
        "rm -rf *flume*\n",
        "wget -q -O - /tmp/ https://dlcdn.apache.org/flume/1.11.0/apache-flume-1.11.0-bin.tar.gz | tar xfz -\n",
        "mkdir -p conf"
      ]
    },
    {
      "cell_type": "code",
      "source": [
        " "
      ],
      "metadata": {
        "id": "iC2nnFUZNvZ5"
      },
      "execution_count": null,
      "outputs": []
    },
    {
      "cell_type": "code",
      "source": [
        "#@title Define Flume agent topology\n",
        "%%writefile conf/flume.conf\n",
        "\n",
        "# Name the components on this agent\n",
        "agent.sinks = k1\n",
        "agent.sources = r1\n",
        "agent.channels = c1\n",
        "\n",
        "# Describe/configure the source\n",
        "agent.sources.r1.type = seq\n",
        "agent.sources.r1.channels = c1\n",
        "\n",
        "# Use a channel which buffers events in memory\n",
        "agent.channels.c1.type = memory\n",
        "agent.channels.c1.capacity = 1000\n",
        "agent.channels.c1.transactionCapacity = 100\n",
        "\n",
        "agent.sinks.k1.channel = c1\n",
        "agent.sinks.k1.type = org.apache.flume.sink.kafka.KafkaSink\n",
        "agent.sinks.k1.kafka.topic = flume\n",
        "agent.sinks.k1.kafka.bootstrap.servers = localhost:9092\n",
        "agent.sinks.k1.kafka.flumeBatchSize = 20\n",
        "agent.sinks.k1.kafka.producer.acks = 1\n",
        "agent.sinks.k1.kafka.producer.linger.ms = 1\n",
        "agent.sinks.k1.kafka.producer.compression.type = snappy\n",
        "\n"
      ],
      "metadata": {
        "id": "i82gVMF20gLB"
      },
      "execution_count": null,
      "outputs": []
    },
    {
      "cell_type": "code",
      "source": [
        "#@title Install PySpark\n",
        "!pip install pyspark findspark --quiet\n",
        "import findspark\n",
        "findspark.init()\n",
        "findspark.find()"
      ],
      "metadata": {
        "id": "McqzhER23jC2",
        "cellView": "form"
      },
      "execution_count": null,
      "outputs": []
    },
    {
      "cell_type": "code",
      "source": [
        "#@title Install & Launch Kafka\n",
        "%%bash\n",
        "KAFKA_VERSION=3.4.0\n",
        "KAFKA=kafka_2.13-$KAFKA_VERSION\n",
        "wget -q -O /tmp/$KAFKA.tgz https://dlcdn.apache.org/kafka/$KAFKA_VERSION/$KAFKA.tgz\n",
        "tar xfz /tmp/$KAFKA.tgz\n",
        "wget -q -O $KAFKA/config/server1.properties - https://github.com/smduarte/ps2024/raw/main/colab/server1.properties\n",
        "\n",
        "UUID=`$KAFKA/bin/kafka-storage.sh random-uuid`\n",
        "$KAFKA/bin/kafka-storage.sh format -t $UUID -c $KAFKA/config/server1.properties\n",
        "$KAFKA/bin/kafka-server-start.sh -daemon $KAFKA/config/server1.properties"
      ],
      "metadata": {
        "id": "ElZP8gwKmxQl"
      },
      "execution_count": null,
      "outputs": []
    },
    {
      "cell_type": "code",
      "source": [
        "#@title Start Flume agent\n",
        "%%bash\n",
        "FLUME=apache-flume-1.11.0-bin\n",
        "\n",
        "nohup $FLUME/bin/flume-ng agent --conf ./conf/ -f conf/flume.conf -Dflume.root.logger=ALL,console -n agent 2>/dev/null > /dev/null &"
      ],
      "metadata": {
        "id": "ll4RZ0Fm1QBc"
      },
      "execution_count": null,
      "outputs": []
    },
    {
      "cell_type": "code",
      "source": [
        "#@title Process stream with Spark streaming\n",
        "from pyspark.sql import SparkSession\n",
        "from pyspark.sql.functions import *\n",
        "from pyspark.sql.types import *\n",
        "\n",
        "def dumpBatchDF(df, epoch_id):\n",
        "    df.show(20, False)\n",
        "\n",
        "spark = SparkSession \\\n",
        "    .builder \\\n",
        "    .appName('Kafka Spark Structured Streaming Example') \\\n",
        "    .config('spark.jars.packages', 'org.apache.spark:spark-sql-kafka-0-10_2.12:3.3.2') \\\n",
        "    .getOrCreate()\n",
        "\n",
        "lines = spark \\\n",
        "  .readStream \\\n",
        "  .format('kafka') \\\n",
        "  .option('kafka.bootstrap.servers', 'localhost:9092') \\\n",
        "  .option('subscribe', 'flume') \\\n",
        "  .option('startingOffsets', 'earliest') \\\n",
        "  .load() \\\n",
        "  .selectExpr('CAST(value AS STRING)')\n",
        "\n",
        "query = lines \\\n",
        "    .writeStream \\\n",
        "    .outputMode('append') \\\n",
        "    .foreachBatch(dumpBatchDF) \\\n",
        "    .start()\n",
        "\n",
        "query.awaitTermination(600)\n",
        "query.stop()\n",
        "spark.stop()"
      ],
      "metadata": {
        "id": "0SSH7x7snMHs"
      },
      "execution_count": null,
      "outputs": []
    },
    {
      "cell_type": "markdown",
      "source": [
        "### Exercise 1\n",
        "\n",
        "Use [Flume](https://flume.apache.org/index.html) to injest the weblog daset into Kafka, according the following pipeline.\n",
        "\n",
        " `weblog tcp:7777` -> ` flume` -> `Kafka` -> `Spark Streaming`\n",
        "\n",
        "1. Run the `weblog` stream from Lab 2, using client.py, instead of server.py\n",
        "\n",
        "2. Check the Flume [user guide](https://flume.apache.org/FlumeUserGuide.html) to find the documentation on the available sources and how to use them. \n",
        "\n",
        "3. Define the new Flume agent topology. Use the `netcat` source to consume lines from the weblog server. The sink should be `kafka`.\n",
        "\n",
        "4. Consume the stream data using Spark Streaming."
      ],
      "metadata": {
        "id": "qxV8qcWoqCBQ"
      }
    },
    {
      "cell_type": "markdown",
      "source": [
        "### Exercise 2\n",
        "\n",
        "Create a new Flume agent, based on the solution of the previous exercise, to aggregate events from two weblog servers, one serving to the `IPv4` dataset and the other the `IPv6` dataset. "
      ],
      "metadata": {
        "id": "28U8KAoLxxED"
      }
    }
  ]
}